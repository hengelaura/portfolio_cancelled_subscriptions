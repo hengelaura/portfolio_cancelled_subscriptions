{
 "cells": [
  {
   "cell_type": "code",
   "execution_count": 84,
   "id": "9a2bb573",
   "metadata": {},
   "outputs": [],
   "source": [
    "import sqlite3\n",
    "import pandas as pd\n",
    "import numpy as np\n",
    "import ast\n",
    "import matplotlib.pyplot as plt"
   ]
  },
  {
   "cell_type": "code",
   "execution_count": 85,
   "id": "adc5477c",
   "metadata": {},
   "outputs": [],
   "source": [
    "con = sqlite3.connect('cademycode.db')\n",
    "curs = con.cursor()"
   ]
  },
  {
   "cell_type": "code",
   "execution_count": 86,
   "id": "c11a6c0e",
   "metadata": {},
   "outputs": [],
   "source": [
    "table_structure = curs.execute('''select name from sqlite_master where type='table';''').fetchall()"
   ]
  },
  {
   "cell_type": "code",
   "execution_count": 87,
   "id": "fc1d900a",
   "metadata": {},
   "outputs": [
    {
     "name": "stdout",
     "output_type": "stream",
     "text": [
      "[('cademycode_students',), ('cademycode_courses',), ('cademycode_student_jobs',)]\n"
     ]
    }
   ],
   "source": [
    "print(table_structure)"
   ]
  },
  {
   "cell_type": "code",
   "execution_count": 88,
   "id": "e0c84cf4",
   "metadata": {},
   "outputs": [],
   "source": [
    "students = pd.read_sql_query('''select * from cademycode_students''', con)\n",
    "courses = pd.read_sql_query('''select * from cademycode_courses''', con)\n",
    "jobs = pd.read_sql_query('''select * from cademycode_student_jobs''', con)"
   ]
  },
  {
   "cell_type": "code",
   "execution_count": 89,
   "id": "159078c8",
   "metadata": {},
   "outputs": [
    {
     "name": "stdout",
     "output_type": "stream",
     "text": [
      "   uuid             name         dob sex  \\\n",
      "0     1  Annabelle Avery  1943-07-03   F   \n",
      "1     2      Micah Rubio  1991-02-07   M   \n",
      "2     3       Hosea Dale  1989-12-07   M   \n",
      "3     4     Mariann Kirk  1988-07-31   F   \n",
      "4     5  Lucio Alexander  1963-08-31   M   \n",
      "\n",
      "                                        contact_info job_id num_course_taken  \\\n",
      "0  {\"mailing_address\": \"303 N Timber Key, Irondal...    7.0              6.0   \n",
      "1  {\"mailing_address\": \"767 Crescent Fair, Shoals...    7.0              5.0   \n",
      "2  {\"mailing_address\": \"P.O. Box 41269, St. Bonav...    7.0              8.0   \n",
      "3  {\"mailing_address\": \"517 SE Wintergreen Isle, ...    6.0              7.0   \n",
      "4  {\"mailing_address\": \"18 Cinder Cliff, Doyles b...    7.0             14.0   \n",
      "\n",
      "  current_career_path_id time_spent_hrs  \n",
      "0                    1.0           4.99  \n",
      "1                    8.0            4.4  \n",
      "2                    8.0           6.74  \n",
      "3                    9.0          12.31  \n",
      "4                    3.0           5.64  \n"
     ]
    }
   ],
   "source": [
    "print(students.head())"
   ]
  },
  {
   "cell_type": "code",
   "execution_count": 90,
   "id": "9641a47b",
   "metadata": {},
   "outputs": [
    {
     "name": "stdout",
     "output_type": "stream",
     "text": [
      "uuid                       int64\n",
      "name                      object\n",
      "dob                       object\n",
      "sex                       object\n",
      "contact_info              object\n",
      "job_id                    object\n",
      "num_course_taken          object\n",
      "current_career_path_id    object\n",
      "time_spent_hrs            object\n",
      "dtype: object\n"
     ]
    }
   ],
   "source": [
    "print(students.dtypes)\n",
    "#most of these are objects and shouldn't be. Must change that"
   ]
  },
  {
   "cell_type": "code",
   "execution_count": 91,
   "id": "a4ceda0e",
   "metadata": {},
   "outputs": [
    {
     "name": "stdout",
     "output_type": "stream",
     "text": [
      "<class 'pandas.core.frame.DataFrame'>\n",
      "RangeIndex: 5000 entries, 0 to 4999\n",
      "Data columns (total 9 columns):\n",
      " #   Column                  Non-Null Count  Dtype \n",
      "---  ------                  --------------  ----- \n",
      " 0   uuid                    5000 non-null   int64 \n",
      " 1   name                    5000 non-null   object\n",
      " 2   dob                     5000 non-null   object\n",
      " 3   sex                     5000 non-null   object\n",
      " 4   contact_info            5000 non-null   object\n",
      " 5   job_id                  4995 non-null   object\n",
      " 6   num_course_taken        4749 non-null   object\n",
      " 7   current_career_path_id  4529 non-null   object\n",
      " 8   time_spent_hrs          4529 non-null   object\n",
      "dtypes: int64(1), object(8)\n",
      "memory usage: 351.7+ KB\n",
      "None\n"
     ]
    }
   ],
   "source": [
    "print(students.info())\n",
    "#some missing data, will come back for this later"
   ]
  },
  {
   "cell_type": "code",
   "execution_count": 92,
   "id": "dd1d5725",
   "metadata": {},
   "outputs": [],
   "source": [
    "#convert dob from object to datetime\n",
    "#students.dob = pd.to_datetime(students.dob)\n",
    "#change types for job_id, num_course_taken, current_career_path_id, and time_spent_hrs to float\n",
    "students = students.astype({'job_id': float, 'num_course_taken': float, 'current_career_path_id': float, 'time_spent_hrs': float})\n",
    "\n",
    "#add column for actual age\n",
    "now = pd.to_datetime('now')\n",
    "students['age'] = round((now - pd.to_datetime(students['dob'])).dt.days / 365)\n",
    "#add age range to make for some easier graphs\n",
    "students['age_range'] = round(students['age']/10)*10\n",
    "\n",
    "#break out contact info into multiple columns\n",
    "students['contact_info'] = students['contact_info'].apply(lambda x: ast.literal_eval(x))\n",
    "explode_contact = pd.json_normalize(students['contact_info'])\n",
    "students = pd.concat([students.drop('contact_info', axis=1), explode_contact], axis=1)"
   ]
  },
  {
   "cell_type": "code",
   "execution_count": 93,
   "id": "331dfe78",
   "metadata": {},
   "outputs": [],
   "source": [
    "expand_address = students['mailing_address'].str.split(',', expand=True)"
   ]
  },
  {
   "cell_type": "code",
   "execution_count": 94,
   "id": "588c1676",
   "metadata": {},
   "outputs": [
    {
     "name": "stdout",
     "output_type": "stream",
     "text": [
      "   uuid             name         dob sex  job_id  num_course_taken  \\\n",
      "0     1  Annabelle Avery  1943-07-03   F     7.0               6.0   \n",
      "1     2      Micah Rubio  1991-02-07   M     7.0               5.0   \n",
      "2     3       Hosea Dale  1989-12-07   M     7.0               8.0   \n",
      "3     4     Mariann Kirk  1988-07-31   F     6.0               7.0   \n",
      "4     5  Lucio Alexander  1963-08-31   M     7.0              14.0   \n",
      "\n",
      "   current_career_path_id  time_spent_hrs   age  age_range  \\\n",
      "0                     1.0            4.99  81.0       80.0   \n",
      "1                     8.0            4.40  33.0       30.0   \n",
      "2                     8.0            6.74  34.0       30.0   \n",
      "3                     9.0           12.31  36.0       40.0   \n",
      "4                     3.0            5.64  61.0       60.0   \n",
      "\n",
      "                            email                   Street              City  \\\n",
      "0  annabelle_avery9376@woohoo.com         303 N Timber Key          Irondale   \n",
      "1             rubio6772@hmail.com        767 Crescent Fair            Shoals   \n",
      "2     hosea_dale8084@coldmail.com           P.O. Box 41269   St. Bonaventure   \n",
      "3              kirk4005@hmail.com  517 SE Wintergreen Isle              Lane   \n",
      "4         alexander9810@hmail.com          18 Cinder Cliff    Doyles borough   \n",
      "\n",
      "           State Zipcode  \n",
      "0      Wisconsin   84736  \n",
      "1        Indiana   37439  \n",
      "2       Virginia   83637  \n",
      "3       Arkansas   82242  \n",
      "4   Rhode Island   73737  \n",
      "              uuid       job_id  num_course_taken  current_career_path_id  \\\n",
      "count  5000.000000  4995.000000       4749.000000             4529.000000   \n",
      "mean   2500.500000     4.172172          7.533586                5.478914   \n",
      "std    1443.520003     2.148098          4.609884                2.874135   \n",
      "min       1.000000     1.000000          0.000000                1.000000   \n",
      "25%    1250.750000     2.000000          4.000000                3.000000   \n",
      "50%    2500.500000     4.000000          7.000000                5.000000   \n",
      "75%    3750.250000     6.000000         12.000000                8.000000   \n",
      "max    5000.000000     8.000000         15.000000               10.000000   \n",
      "\n",
      "       time_spent_hrs          age   age_range  \n",
      "count     4529.000000  5000.000000  5000.00000  \n",
      "mean        11.520625    50.951000    50.97600  \n",
      "std          7.564228    18.336604    18.80846  \n",
      "min          0.000000    19.000000    20.00000  \n",
      "25%          5.380000    35.000000    40.00000  \n",
      "50%         10.670000    51.000000    50.00000  \n",
      "75%         16.750000    67.000000    70.00000  \n",
      "max         35.980000    82.000000    80.00000  \n",
      "<class 'pandas.core.frame.DataFrame'>\n",
      "RangeIndex: 5000 entries, 0 to 4999\n",
      "Data columns (total 15 columns):\n",
      " #   Column                  Non-Null Count  Dtype  \n",
      "---  ------                  --------------  -----  \n",
      " 0   uuid                    5000 non-null   int64  \n",
      " 1   name                    5000 non-null   object \n",
      " 2   dob                     5000 non-null   object \n",
      " 3   sex                     5000 non-null   object \n",
      " 4   job_id                  4995 non-null   float64\n",
      " 5   num_course_taken        4749 non-null   float64\n",
      " 6   current_career_path_id  4529 non-null   float64\n",
      " 7   time_spent_hrs          4529 non-null   float64\n",
      " 8   age                     5000 non-null   float64\n",
      " 9   age_range               5000 non-null   float64\n",
      " 10  email                   5000 non-null   object \n",
      " 11  Street                  5000 non-null   object \n",
      " 12  City                    5000 non-null   object \n",
      " 13  State                   5000 non-null   object \n",
      " 14  Zipcode                 5000 non-null   object \n",
      "dtypes: float64(6), int64(1), object(8)\n",
      "memory usage: 586.1+ KB\n",
      "None\n"
     ]
    }
   ],
   "source": [
    "students['Street'] = expand_address[0]\n",
    "students['City'] = expand_address[1]\n",
    "students['State'] = expand_address[2]\n",
    "students['Zipcode'] = expand_address[3]\n",
    "students.drop('mailing_address', axis=1, inplace=True)\n",
    "print(students.head())\n",
    "print(students.describe())\n",
    "print(students.info())"
   ]
  },
  {
   "cell_type": "code",
   "execution_count": 95,
   "id": "0d4d1e01",
   "metadata": {},
   "outputs": [
    {
     "name": "stdout",
     "output_type": "stream",
     "text": [
      "<class 'pandas.core.frame.DataFrame'>\n",
      "RangeIndex: 10 entries, 0 to 9\n",
      "Data columns (total 3 columns):\n",
      " #   Column             Non-Null Count  Dtype \n",
      "---  ------             --------------  ----- \n",
      " 0   career_path_id     10 non-null     int64 \n",
      " 1   career_path_name   10 non-null     object\n",
      " 2   hours_to_complete  10 non-null     int64 \n",
      "dtypes: int64(2), object(1)\n",
      "memory usage: 372.0+ bytes\n",
      "None\n",
      "       career_path_id  hours_to_complete\n",
      "count        10.00000          10.000000\n",
      "mean          5.50000          21.900000\n",
      "std           3.02765           6.707376\n",
      "min           1.00000          12.000000\n",
      "25%           3.25000          18.500000\n",
      "50%           5.50000          20.000000\n",
      "75%           7.75000          26.500000\n",
      "max          10.00000          35.000000\n"
     ]
    }
   ],
   "source": [
    "print(courses.info())\n",
    "print(courses.describe())\n",
    "#nothing missing here and data types make sense"
   ]
  },
  {
   "cell_type": "code",
   "execution_count": 96,
   "id": "8b924d44",
   "metadata": {},
   "outputs": [
    {
     "name": "stdout",
     "output_type": "stream",
     "text": [
      "<class 'pandas.core.frame.DataFrame'>\n",
      "RangeIndex: 13 entries, 0 to 12\n",
      "Data columns (total 3 columns):\n",
      " #   Column        Non-Null Count  Dtype \n",
      "---  ------        --------------  ----- \n",
      " 0   job_id        13 non-null     int64 \n",
      " 1   job_category  13 non-null     object\n",
      " 2   avg_salary    13 non-null     int64 \n",
      "dtypes: int64(2), object(1)\n",
      "memory usage: 444.0+ bytes\n",
      "None\n",
      "          job_id     avg_salary\n",
      "count  13.000000      13.000000\n",
      "mean    4.384615   89230.769231\n",
      "std     2.662657   34727.879881\n",
      "min     0.000000   10000.000000\n",
      "25%     3.000000   66000.000000\n",
      "50%     4.000000   86000.000000\n",
      "75%     6.000000  110000.000000\n",
      "max     9.000000  135000.000000\n",
      "10\n"
     ]
    }
   ],
   "source": [
    "print(jobs.info())\n",
    "print(jobs.describe())\n",
    "#nothing missing here either and data types still make sense\n",
    "print(len(jobs.job_category.unique()))\n",
    "#we have duplicates\n",
    "jobs = jobs.drop_duplicates(subset='job_category')\n",
    "#done with this table"
   ]
  },
  {
   "cell_type": "code",
   "execution_count": 97,
   "id": "9465b2d5",
   "metadata": {},
   "outputs": [],
   "source": [
    "#so now need to address the missing data. Let's see if we can find a pattern to what is missing\n",
    "#first should grab lines of data where something important is missing?\n",
    "missing_courses = students[students[['num_course_taken']].isnull().any(axis=1)]"
   ]
  },
  {
   "cell_type": "code",
   "execution_count": 98,
   "id": "8a0e1f5d",
   "metadata": {},
   "outputs": [
    {
     "data": {
      "text/plain": [
       "<Axes: xlabel='sex'>"
      ]
     },
     "execution_count": 98,
     "metadata": {},
     "output_type": "execute_result"
    },
    {
     "data": {
      "image/png": "[encoded data removed]",
      "text/plain": [
       "<Figure size 640x480 with 1 Axes>"
      ]
     },
     "metadata": {},
     "output_type": "display_data"
    }
   ],
   "source": [
    "sg = (students.groupby('sex').count()['uuid']/len(students)).rename('complete')\n",
    "mg = (missing_courses.groupby('sex').count()['uuid']/len(missing_courses)).rename('incomplete')\n",
    "df = pd.concat([sg,mg], axis=1)\n",
    "df.plot.bar()"
   ]
  },
  {
   "cell_type": "code",
   "execution_count": 99,
   "id": "717bf4f1",
   "metadata": {},
   "outputs": [
    {
     "data": {
      "text/plain": [
       "<Axes: xlabel='age_range'>"
      ]
     },
     "execution_count": 99,
     "metadata": {},
     "output_type": "execute_result"
    },
    {
     "data": {
      "image/png": "[encoded data removed]",
      "text/plain": [
       "<Figure size 640x480 with 1 Axes>"
      ]
     },
     "metadata": {},
     "output_type": "display_data"
    }
   ],
   "source": [
    "sg = (students.groupby('age_range').uuid.count()/len(students)).rename('complete')\n",
    "mg = (missing_courses.groupby('age_range').uuid.count()/len(missing_courses)).rename('incomplete')\n",
    "df = pd.concat([sg,mg], axis=1)\n",
    "df.plot.bar()"
   ]
  },
  {
   "cell_type": "code",
   "execution_count": 100,
   "id": "76c57d18",
   "metadata": {},
   "outputs": [
    {
     "name": "stdout",
     "output_type": "stream",
     "text": [
      "0.0502\n"
     ]
    }
   ],
   "source": [
    "#no pattern detected so MAR. These data is not a time-series, so how much of this data is missing?\n",
    "perc = len(missing_courses)/len(students)\n",
    "print(perc)"
   ]
  },
  {
   "cell_type": "code",
   "execution_count": 101,
   "id": "0bf39342",
   "metadata": {},
   "outputs": [],
   "source": [
    "#about 5% is missing, so this is within an ok range to just remove these values.\n",
    "students.dropna(subset=['num_course_taken'], inplace=True)"
   ]
  },
  {
   "cell_type": "code",
   "execution_count": 102,
   "id": "fc80eb5a",
   "metadata": {},
   "outputs": [
    {
     "name": "stdout",
     "output_type": "stream",
     "text": [
      "<class 'pandas.core.frame.DataFrame'>\n",
      "Index: 4749 entries, 0 to 4999\n",
      "Data columns (total 15 columns):\n",
      " #   Column                  Non-Null Count  Dtype  \n",
      "---  ------                  --------------  -----  \n",
      " 0   uuid                    4749 non-null   int64  \n",
      " 1   name                    4749 non-null   object \n",
      " 2   dob                     4749 non-null   object \n",
      " 3   sex                     4749 non-null   object \n",
      " 4   job_id                  4744 non-null   float64\n",
      " 5   num_course_taken        4749 non-null   float64\n",
      " 6   current_career_path_id  4298 non-null   float64\n",
      " 7   time_spent_hrs          4298 non-null   float64\n",
      " 8   age                     4749 non-null   float64\n",
      " 9   age_range               4749 non-null   float64\n",
      " 10  email                   4749 non-null   object \n",
      " 11  Street                  4749 non-null   object \n",
      " 12  City                    4749 non-null   object \n",
      " 13  State                   4749 non-null   object \n",
      " 14  Zipcode                 4749 non-null   object \n",
      "dtypes: float64(6), int64(1), object(8)\n",
      "memory usage: 593.6+ KB\n",
      "None\n"
     ]
    }
   ],
   "source": [
    "print(students.info())"
   ]
  },
  {
   "cell_type": "code",
   "execution_count": 103,
   "id": "a74b7034",
   "metadata": {},
   "outputs": [
    {
     "data": {
      "text/html": [
       "<div>\n",
       "<style scoped>\n",
       "    .dataframe tbody tr th:only-of-type {\n",
       "        vertical-align: middle;\n",
       "    }\n",
       "\n",
       "    .dataframe tbody tr th {\n",
       "        vertical-align: top;\n",
       "    }\n",
       "\n",
       "    .dataframe thead th {\n",
       "        text-align: right;\n",
       "    }\n",
       "</style>\n",
       "<table border=\"1\" class=\"dataframe\">\n",
       "  <thead>\n",
       "    <tr style=\"text-align: right;\">\n",
       "      <th></th>\n",
       "      <th>uuid</th>\n",
       "      <th>name</th>\n",
       "      <th>dob</th>\n",
       "      <th>sex</th>\n",
       "      <th>job_id</th>\n",
       "      <th>num_course_taken</th>\n",
       "      <th>current_career_path_id</th>\n",
       "      <th>time_spent_hrs</th>\n",
       "      <th>age</th>\n",
       "      <th>age_range</th>\n",
       "      <th>email</th>\n",
       "      <th>Street</th>\n",
       "      <th>City</th>\n",
       "      <th>State</th>\n",
       "      <th>Zipcode</th>\n",
       "    </tr>\n",
       "  </thead>\n",
       "  <tbody>\n",
       "    <tr>\n",
       "      <th>162</th>\n",
       "      <td>163</td>\n",
       "      <td>Glen Riley</td>\n",
       "      <td>2002-08-22</td>\n",
       "      <td>M</td>\n",
       "      <td>NaN</td>\n",
       "      <td>8.0</td>\n",
       "      <td>3.0</td>\n",
       "      <td>5.70</td>\n",
       "      <td>21.0</td>\n",
       "      <td>20.0</td>\n",
       "      <td>glen_riley4484@hmail.com</td>\n",
       "      <td>P.O. Box 37267</td>\n",
       "      <td>Cornlea village</td>\n",
       "      <td>Tennessee</td>\n",
       "      <td>19192</td>\n",
       "    </tr>\n",
       "    <tr>\n",
       "      <th>757</th>\n",
       "      <td>758</td>\n",
       "      <td>Mercedez Vorberg</td>\n",
       "      <td>2002-03-25</td>\n",
       "      <td>F</td>\n",
       "      <td>NaN</td>\n",
       "      <td>15.0</td>\n",
       "      <td>4.0</td>\n",
       "      <td>4.14</td>\n",
       "      <td>22.0</td>\n",
       "      <td>20.0</td>\n",
       "      <td>mercedez6297@woohoo.com</td>\n",
       "      <td>284 Cedar Seventh</td>\n",
       "      <td>Virden village</td>\n",
       "      <td>Washington</td>\n",
       "      <td>60489</td>\n",
       "    </tr>\n",
       "    <tr>\n",
       "      <th>854</th>\n",
       "      <td>855</td>\n",
       "      <td>Kurt Ho</td>\n",
       "      <td>2002-05-29</td>\n",
       "      <td>M</td>\n",
       "      <td>NaN</td>\n",
       "      <td>0.0</td>\n",
       "      <td>8.0</td>\n",
       "      <td>23.72</td>\n",
       "      <td>22.0</td>\n",
       "      <td>20.0</td>\n",
       "      <td>ho6107@inlook.com</td>\n",
       "      <td>P.O. Box 27254</td>\n",
       "      <td>Olin</td>\n",
       "      <td>New Hampshire</td>\n",
       "      <td>60067</td>\n",
       "    </tr>\n",
       "    <tr>\n",
       "      <th>1029</th>\n",
       "      <td>1030</td>\n",
       "      <td>Penny Gaines</td>\n",
       "      <td>2002-03-01</td>\n",
       "      <td>N</td>\n",
       "      <td>NaN</td>\n",
       "      <td>15.0</td>\n",
       "      <td>4.0</td>\n",
       "      <td>16.25</td>\n",
       "      <td>22.0</td>\n",
       "      <td>20.0</td>\n",
       "      <td>gaines2897@hmail.com</td>\n",
       "      <td>138 Misty Vale</td>\n",
       "      <td>Stockton borough</td>\n",
       "      <td>West Virginia</td>\n",
       "      <td>53630</td>\n",
       "    </tr>\n",
       "    <tr>\n",
       "      <th>1542</th>\n",
       "      <td>1543</td>\n",
       "      <td>Frederick Reilly</td>\n",
       "      <td>2002-11-13</td>\n",
       "      <td>M</td>\n",
       "      <td>NaN</td>\n",
       "      <td>7.0</td>\n",
       "      <td>9.0</td>\n",
       "      <td>21.32</td>\n",
       "      <td>21.0</td>\n",
       "      <td>20.0</td>\n",
       "      <td>frederick_reilly6971@woohoo.com</td>\n",
       "      <td>P.O. Box 40769</td>\n",
       "      <td>Quakervillage</td>\n",
       "      <td>Maryland</td>\n",
       "      <td>96218</td>\n",
       "    </tr>\n",
       "  </tbody>\n",
       "</table>\n",
       "</div>"
      ],
      "text/plain": [
       "      uuid              name         dob sex  job_id  num_course_taken  \\\n",
       "162    163        Glen Riley  2002-08-22   M     NaN               8.0   \n",
       "757    758  Mercedez Vorberg  2002-03-25   F     NaN              15.0   \n",
       "854    855           Kurt Ho  2002-05-29   M     NaN               0.0   \n",
       "1029  1030      Penny Gaines  2002-03-01   N     NaN              15.0   \n",
       "1542  1543  Frederick Reilly  2002-11-13   M     NaN               7.0   \n",
       "\n",
       "      current_career_path_id  time_spent_hrs   age  age_range  \\\n",
       "162                      3.0            5.70  21.0       20.0   \n",
       "757                      4.0            4.14  22.0       20.0   \n",
       "854                      8.0           23.72  22.0       20.0   \n",
       "1029                     4.0           16.25  22.0       20.0   \n",
       "1542                     9.0           21.32  21.0       20.0   \n",
       "\n",
       "                                email             Street               City  \\\n",
       "162          glen_riley4484@hmail.com     P.O. Box 37267    Cornlea village   \n",
       "757           mercedez6297@woohoo.com  284 Cedar Seventh     Virden village   \n",
       "854                 ho6107@inlook.com     P.O. Box 27254               Olin   \n",
       "1029             gaines2897@hmail.com     138 Misty Vale   Stockton borough   \n",
       "1542  frederick_reilly6971@woohoo.com     P.O. Box 40769      Quakervillage   \n",
       "\n",
       "               State Zipcode  \n",
       "162        Tennessee   19192  \n",
       "757       Washington   60489  \n",
       "854    New Hampshire   60067  \n",
       "1029   West Virginia   53630  \n",
       "1542        Maryland   96218  "
      ]
     },
     "metadata": {},
     "output_type": "display_data"
    }
   ],
   "source": [
    "missing_job_id = students[students[['job_id']].isnull().any(axis=1)]\n",
    "display(missing_job_id)"
   ]
  },
  {
   "cell_type": "code",
   "execution_count": 104,
   "id": "de4b8b40",
   "metadata": {},
   "outputs": [],
   "source": [
    "num_in_20_range = len(students[students.age_range==20.0])"
   ]
  },
  {
   "cell_type": "code",
   "execution_count": 105,
   "id": "754ab005",
   "metadata": {},
   "outputs": [
    {
     "name": "stdout",
     "output_type": "stream",
     "text": [
      "489\n"
     ]
    }
   ],
   "source": [
    "print(num_in_20_range)"
   ]
  },
  {
   "cell_type": "code",
   "execution_count": 106,
   "id": "91fb4849",
   "metadata": {},
   "outputs": [
    {
     "name": "stdout",
     "output_type": "stream",
     "text": [
      "0.010224948875255624\n"
     ]
    }
   ],
   "source": [
    "print(len(missing_job_id)/num_in_20_range)"
   ]
  },
  {
   "cell_type": "code",
   "execution_count": 107,
   "id": "9a2cb27e",
   "metadata": {},
   "outputs": [],
   "source": [
    "#so even though all are in the age range of 20, so few are missing that this isn't a pattern\n",
    "students.dropna(subset='job_id', inplace=True)"
   ]
  },
  {
   "cell_type": "code",
   "execution_count": 108,
   "id": "1413a17d",
   "metadata": {},
   "outputs": [
    {
     "name": "stdout",
     "output_type": "stream",
     "text": [
      "<class 'pandas.core.frame.DataFrame'>\n",
      "Index: 4744 entries, 0 to 4999\n",
      "Data columns (total 15 columns):\n",
      " #   Column                  Non-Null Count  Dtype  \n",
      "---  ------                  --------------  -----  \n",
      " 0   uuid                    4744 non-null   int64  \n",
      " 1   name                    4744 non-null   object \n",
      " 2   dob                     4744 non-null   object \n",
      " 3   sex                     4744 non-null   object \n",
      " 4   job_id                  4744 non-null   float64\n",
      " 5   num_course_taken        4744 non-null   float64\n",
      " 6   current_career_path_id  4293 non-null   float64\n",
      " 7   time_spent_hrs          4293 non-null   float64\n",
      " 8   age                     4744 non-null   float64\n",
      " 9   age_range               4744 non-null   float64\n",
      " 10  email                   4744 non-null   object \n",
      " 11  Street                  4744 non-null   object \n",
      " 12  City                    4744 non-null   object \n",
      " 13  State                   4744 non-null   object \n",
      " 14  Zipcode                 4744 non-null   object \n",
      "dtypes: float64(6), int64(1), object(8)\n",
      "memory usage: 593.0+ KB\n",
      "None\n"
     ]
    }
   ],
   "source": [
    "print(students.info())"
   ]
  },
  {
   "cell_type": "code",
   "execution_count": 109,
   "id": "c315c054",
   "metadata": {},
   "outputs": [],
   "source": [
    "#ok, only need to look at the career path id and time_spent (note that they have the same number of missing rows)\n",
    "#are they the same missing rows?\n",
    "missing_career_path = students[students[['current_career_path_id']].isnull().any(axis=1)]\n",
    "missing_hours = students[students[['time_spent_hrs']].isnull().any(axis=1)]"
   ]
  },
  {
   "cell_type": "code",
   "execution_count": 110,
   "id": "ab0f812b",
   "metadata": {},
   "outputs": [
    {
     "name": "stdout",
     "output_type": "stream",
     "text": [
      "451\n",
      "451\n",
      "True\n",
      "True\n",
      "True\n",
      "True\n"
     ]
    }
   ],
   "source": [
    "print(len(missing_career_path))\n",
    "print(len(missing_hours))\n",
    "print(missing_career_path['current_career_path_id'].isnull().all())\n",
    "print(missing_career_path['time_spent_hrs'].isnull().all())\n",
    "print(missing_hours['current_career_path_id'].isnull().all())\n",
    "print(missing_hours['time_spent_hrs'].isnull().all())"
   ]
  },
  {
   "cell_type": "code",
   "execution_count": 111,
   "id": "3754369d",
   "metadata": {},
   "outputs": [
    {
     "name": "stdout",
     "output_type": "stream",
     "text": [
      "uuid                       True\n",
      "name                       True\n",
      "dob                        True\n",
      "sex                        True\n",
      "job_id                     True\n",
      "num_course_taken           True\n",
      "current_career_path_id    False\n",
      "time_spent_hrs            False\n",
      "age                        True\n",
      "age_range                  True\n",
      "email                      True\n",
      "Street                     True\n",
      "City                       True\n",
      "State                      True\n",
      "Zipcode                    True\n",
      "dtype: bool\n"
     ]
    }
   ],
   "source": [
    "#ok, same length, so maybe the same rows\n",
    "print((missing_career_path == missing_hours).all())"
   ]
  },
  {
   "cell_type": "code",
   "execution_count": 112,
   "id": "4f7c3be8",
   "metadata": {},
   "outputs": [],
   "source": [
    "#ok, so the missing career path and missing hours are exactly the same entries! That's interesting."
   ]
  },
  {
   "cell_type": "code",
   "execution_count": 113,
   "id": "27a21782",
   "metadata": {},
   "outputs": [],
   "source": [
    "#maybe I should add a row to courses to designate that a career path hasn't been chosen?\n",
    "#I can't just delete this data since it's almost 10% of the remaining data.\n",
    "#and this data seems to be structurally missing - meaning that no career path has been chosen and no courses have been started."
   ]
  },
  {
   "cell_type": "code",
   "execution_count": 114,
   "id": "29b487c9",
   "metadata": {},
   "outputs": [],
   "source": [
    "#ok, so we will add a row for a new career_path_id that corresponds to no selection and then fill the students table\n",
    "#with corresponding information\n",
    "courses.loc[len(courses.index)] = [0, 'no selection', 0]"
   ]
  },
  {
   "cell_type": "code",
   "execution_count": 115,
   "id": "293f7f40",
   "metadata": {},
   "outputs": [
    {
     "name": "stdout",
     "output_type": "stream",
     "text": [
      "<class 'pandas.core.frame.DataFrame'>\n",
      "Index: 4744 entries, 0 to 4999\n",
      "Data columns (total 15 columns):\n",
      " #   Column                  Non-Null Count  Dtype  \n",
      "---  ------                  --------------  -----  \n",
      " 0   uuid                    4744 non-null   int64  \n",
      " 1   name                    4744 non-null   object \n",
      " 2   dob                     4744 non-null   object \n",
      " 3   sex                     4744 non-null   object \n",
      " 4   job_id                  4744 non-null   float64\n",
      " 5   num_course_taken        4744 non-null   float64\n",
      " 6   current_career_path_id  4744 non-null   float64\n",
      " 7   time_spent_hrs          4744 non-null   float64\n",
      " 8   age                     4744 non-null   float64\n",
      " 9   age_range               4744 non-null   float64\n",
      " 10  email                   4744 non-null   object \n",
      " 11  Street                  4744 non-null   object \n",
      " 12  City                    4744 non-null   object \n",
      " 13  State                   4744 non-null   object \n",
      " 14  Zipcode                 4744 non-null   object \n",
      "dtypes: float64(6), int64(1), object(8)\n",
      "memory usage: 593.0+ KB\n",
      "None\n"
     ]
    }
   ],
   "source": [
    "students['current_career_path_id'] = students['current_career_path_id'].fillna(0)\n",
    "students['time_spent_hrs'] = students['time_spent_hrs'].fillna(0)\n",
    "print(students.info())"
   ]
  },
  {
   "cell_type": "code",
   "execution_count": 116,
   "id": "b7755d5b",
   "metadata": {},
   "outputs": [
    {
     "name": "stdout",
     "output_type": "stream",
     "text": [
      "   uuid             name         dob sex  job_id  num_course_taken  \\\n",
      "0     1  Annabelle Avery  1943-07-03   F     7.0               6.0   \n",
      "1    15     Tamala Sears  1942-06-01   F     7.0              13.0   \n",
      "2    24     Eartha Weeks  1954-12-05   F     7.0               2.0   \n",
      "3   222      Ali de Kock  1960-03-12   M     7.0               4.0   \n",
      "4   306   Joesph Vermijn  1962-09-24   M     7.0               8.0   \n",
      "\n",
      "   current_career_path_id  time_spent_hrs   age  age_range  \\\n",
      "0                     1.0            4.99  81.0       80.0   \n",
      "1                     1.0            4.64  82.0       80.0   \n",
      "2                     1.0            9.86  69.0       70.0   \n",
      "3                     1.0           14.87  64.0       60.0   \n",
      "4                     1.0            9.66  61.0       60.0   \n",
      "\n",
      "                            email             Street             City  \\\n",
      "0  annabelle_avery9376@woohoo.com   303 N Timber Key         Irondale   \n",
      "1           tamala4408@woohoo.com  868 Hazy Crossing         Bethania   \n",
      "2      eartha_weeks7248@hmail.com     192 Cedar Vale   Hersey village   \n",
      "3         dekock3427@coldmail.com     P.O. Box 63561           Arnett   \n",
      "4        vermijn4861@coldmail.com     92 W End Manor        Livermore   \n",
      "\n",
      "          State Zipcode career_path_name  hours_to_complete job_category  \\\n",
      "0     Wisconsin   84736   data scientist                 20           HR   \n",
      "1    Washington   08205   data scientist                 20           HR   \n",
      "2      Illinois   68184   data scientist                 20           HR   \n",
      "3   Mississippi   26124   data scientist                 20           HR   \n",
      "4      Missouri   46461   data scientist                 20           HR   \n",
      "\n",
      "   avg_salary  \n",
      "0       80000  \n",
      "1       80000  \n",
      "2       80000  \n",
      "3       80000  \n",
      "4       80000  \n"
     ]
    }
   ],
   "source": [
    "#now that our tables are fixed, we need to merge into a single table\n",
    "students_courses = pd.merge(students, courses.rename(columns={'career_path_id': 'current_career_path_id'}))\n",
    "students_courses_jobs = pd.merge(students_courses, jobs)\n",
    "print(students_courses_jobs.head())"
   ]
  },
  {
   "cell_type": "code",
   "execution_count": 117,
   "id": "a1caf0d0",
   "metadata": {},
   "outputs": [
    {
     "name": "stdout",
     "output_type": "stream",
     "text": [
      "<class 'pandas.core.frame.DataFrame'>\n",
      "RangeIndex: 4744 entries, 0 to 4743\n",
      "Data columns (total 19 columns):\n",
      " #   Column                  Non-Null Count  Dtype  \n",
      "---  ------                  --------------  -----  \n",
      " 0   uuid                    4744 non-null   int64  \n",
      " 1   name                    4744 non-null   object \n",
      " 2   dob                     4744 non-null   object \n",
      " 3   sex                     4744 non-null   object \n",
      " 4   job_id                  4744 non-null   float64\n",
      " 5   num_course_taken        4744 non-null   float64\n",
      " 6   current_career_path_id  4744 non-null   float64\n",
      " 7   time_spent_hrs          4744 non-null   float64\n",
      " 8   age                     4744 non-null   float64\n",
      " 9   age_range               4744 non-null   float64\n",
      " 10  email                   4744 non-null   object \n",
      " 11  Street                  4744 non-null   object \n",
      " 12  City                    4744 non-null   object \n",
      " 13  State                   4744 non-null   object \n",
      " 14  Zipcode                 4744 non-null   object \n",
      " 15  career_path_name        4744 non-null   object \n",
      " 16  hours_to_complete       4744 non-null   int64  \n",
      " 17  job_category            4744 non-null   object \n",
      " 18  avg_salary              4744 non-null   int64  \n",
      "dtypes: float64(6), int64(3), object(10)\n",
      "memory usage: 704.3+ KB\n",
      "None\n"
     ]
    }
   ],
   "source": [
    "#let's check the info on the table:\n",
    "print(students_courses_jobs.info())\n",
    "#looks pretty good to me"
   ]
  },
  {
   "cell_type": "code",
   "execution_count": 118,
   "id": "94cfdd03",
   "metadata": {},
   "outputs": [],
   "source": [
    "#now need to output as both a csv and a sqlite database\n",
    "students_courses_jobs.to_csv('final_table.csv')"
   ]
  },
  {
   "cell_type": "code",
   "execution_count": 119,
   "id": "c2d02b29",
   "metadata": {},
   "outputs": [
    {
     "data": {
      "text/plain": [
       "4744"
      ]
     },
     "execution_count": 119,
     "metadata": {},
     "output_type": "execute_result"
    }
   ],
   "source": [
    "#sqlite database this time\n",
    "#need new connection\n",
    "con_output = sqlite3.connect('final_table.db')\n",
    "students_courses_jobs.to_sql('cancelled_subs', con_output, if_exists='replace', index=False)"
   ]
  },
  {
   "cell_type": "code",
   "execution_count": null,
   "id": "bcc85835",
   "metadata": {},
   "outputs": [],
   "source": []
  }
 ],
 "metadata": {
  "kernelspec": {
   "display_name": "Python 3 (ipykernel)",
   "language": "python",
   "name": "python3"
  },
  "language_info": {
   "codemirror_mode": {
    "name": "ipython",
    "version": 3
   },
   "file_extension": ".py",
   "mimetype": "text/x-python",
   "name": "python",
   "nbconvert_exporter": "python",
   "pygments_lexer": "ipython3",
   "version": "3.11.5"
  }
 },
 "nbformat": 4,
 "nbformat_minor": 5
}
